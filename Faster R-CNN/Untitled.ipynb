{
 "cells": [
  {
   "cell_type": "code",
   "execution_count": 1,
   "id": "37bdb958",
   "metadata": {
    "ExecuteTime": {
     "end_time": "2025-02-02T16:04:01.474115Z",
     "start_time": "2025-02-02T16:04:01.464803Z"
    }
   },
   "outputs": [
    {
     "data": {
      "text/plain": [
       "'/mnt/iusers01/fatpou01/compsci01/b08593hm/.conda/envs/fasterrcnn/bin/python'"
      ]
     },
     "execution_count": 1,
     "metadata": {},
     "output_type": "execute_result"
    }
   ],
   "source": [
    "import torch\n",
    "import torchvision\n",
    "\n",
    "from os.path import join\n",
    "from dataset import Manga109COCO\n",
    "from references.detection import utils, transforms as T\n",
    "from references.detection.engine import train_one_epoch, evaluate\n",
    "from torchvision.models.detection.faster_rcnn import FastRCNNPredictor\n",
    "\n",
    "torch.cuda.empty_cache()\n",
    "\n",
    "def get_transform(train):\n",
    "    transforms = []\n",
    "    transforms.append(T.PILToTensor())\n",
    "    transforms.append(T.ToDtype(torch.float))\n",
    "    if train:\n",
    "        transforms.append(T.RandomHorizontalFlip(0.5))\n",
    "    return T.Compose(transforms)\n",
    "\n",
    "def data_loader_from_split(root, split):\n",
    "    \n",
    "    is_train = True if split == 'train' else False\n",
    "    \n",
    "    dataset = Manga109COCO(join(root, split, 'data'),\n",
    "                           join(root, split, 'labels.json'),\n",
    "                           get_transform(is_train))\n",
    "    \n",
    "    return torch.utils.data.DataLoader(dataset, \n",
    "                                       batch_size=8, \n",
    "                                       shuffle=True, \n",
    "                                       num_workers=2,\n",
    "                                       collate_fn=utils.collate_fn)\n",
    "\n",
    "coco_root = \"./manga109_COCO\"\n",
    "splits = ['train', 'test', 'val']\n",
    "\n",
    "device = torch.device('cuda') if torch.cuda.is_available() else torch.device('cpu')\n",
    "\n",
    "num_classes = 3\n",
    "\n",
    "data_loader_train, data_loader_test, data_loader_val = [\n",
    "    data_loader_from_split(coco_root, split) for split in splits\n",
    "]\n",
    "\n",
    "# get the model\n",
    "model = torchvision.models.detection.fasterrcnn_resnet50_fpn(weights=\"DEFAULT\")\n",
    "\n",
    "num_classes = 3  # 2 class (eye + mouth) + background\n",
    "in_features = model.roi_heads.box_predictor.cls_score.in_features\n",
    "model.roi_heads.box_predictor = FastRCNNPredictor(in_features, num_classes)\n",
    "model.to(device)\n",
    "\n",
    "# construct an optimizer\n",
    "params = [p for p in model.parameters() if p.requires_grad]\n",
    "optimizer = torch.optim.AdamW(params, lr=1e-4, weight_decay=5e-4)\n",
    "# optimizer = torch.optim.SGD(params, lr=1e-4,\n",
    "#                             momentum=0.9, weight_decay=1e-5)\n",
    "# # learning rate scheduler\n",
    "# lr_scheduler = torch.optim.lr_scheduler.StepLR(optimizer,\n",
    "#                                                 step_size=3,\n",
    "#                                                 gamma=0.1)\n",
    "num_epochs = 10\n",
    "\n",
    "for epoch in range(num_epochs):\n",
    "    train_one_epoch(model, optimizer, data_loader_train, device, epoch, print_freq=10)\n",
    "    lr_scheduler.step()\n",
    "    evaluate(model, data_loader_val, device=device)  # validation evaluation\n",
    "\n",
    "# evaluate(model, data_loader_test, device=device)\n",
    "# print(\"Training, validation, and testing complete!\")\n"
   ]
  }
 ],
 "metadata": {
  "kernelspec": {
   "display_name": "Environment (fasterrcnn)",
   "language": "python",
   "name": "fasterrcnn"
  },
  "language_info": {
   "codemirror_mode": {
    "name": "ipython",
    "version": 3
   },
   "file_extension": ".py",
   "mimetype": "text/x-python",
   "name": "python",
   "nbconvert_exporter": "python",
   "pygments_lexer": "ipython3",
   "version": "3.10.10"
  },
  "toc": {
   "base_numbering": 1,
   "nav_menu": {},
   "number_sections": true,
   "sideBar": true,
   "skip_h1_title": false,
   "title_cell": "Table of Contents",
   "title_sidebar": "Contents",
   "toc_cell": false,
   "toc_position": {},
   "toc_section_display": true,
   "toc_window_display": false
  }
 },
 "nbformat": 4,
 "nbformat_minor": 5
}
